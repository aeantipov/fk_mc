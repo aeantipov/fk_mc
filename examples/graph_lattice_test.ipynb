{
 "cells": [
  {
   "cell_type": "markdown",
   "metadata": {
    "deletable": true,
    "editable": true
   },
   "source": [
    "# FK Weyl - tight binding model"
   ]
  },
  {
   "cell_type": "markdown",
   "metadata": {
    "deletable": true,
    "editable": true
   },
   "source": [
    "The idea is to combine the FK interaction (annealed disorder) with some weird dispersion, in this case Weyl semimetal. The generic Hamiltonian is \n",
    "$$\n",
    "H = \\sum_{i,j,\\alpha,\\beta} c^\\dagger_{i,\\alpha} \\hat t c_{j,\\beta} + \\sum_{i, \\alpha} U_{i} n_{i, \\alpha} w_i \n",
    "- \\sum_i \\mu_f w_i - \\sum_{i,\\alpha} \\mu_c n_{i\\alpha}\n",
    "$$"
   ]
  },
  {
   "cell_type": "code",
   "execution_count": 96,
   "metadata": {
    "code_folding": [],
    "collapsed": false,
    "deletable": true,
    "editable": true
   },
   "outputs": [],
   "source": [
    "import importlib\n",
    "import os\n",
    "import sys\n",
    "def is_interactive():\n",
    "    import __main__ as main\n",
    "    return not hasattr(main, '__file__')\n",
    "# defaults\n",
    "shell_mode = not is_interactive() \n",
    "plot_graphs = importlib.util.find_spec(\"matplotlib\") is not None and not shell_mode"
   ]
  },
  {
   "cell_type": "code",
   "execution_count": 97,
   "metadata": {
    "code_folding": [
     0
    ],
    "collapsed": false,
    "deletable": true,
    "editable": true
   },
   "outputs": [
    {
     "name": "stdout",
     "output_type": "stream",
     "text": [
      "The autoreload extension is already loaded. To reload it, use:\n",
      "  %reload_ext autoreload\n"
     ]
    }
   ],
   "source": [
    "# Matplotlib\n",
    "if (plot_graphs):\n",
    "    import matplotlib\n",
    "    import matplotlib.pyplot as plt\n",
    "    from matplotlib.ticker import AutoMinorLocator\n",
    "    from matplotlib import gridspec\n",
    "    import subprocess\n",
    "    \n",
    "    def plt_show():\n",
    "        plt.show() if not shell_mode else None\n",
    "\n",
    "    if not shell_mode:\n",
    "        # Matplotlib defaults\n",
    "        %matplotlib inline\n",
    "        %config InlineBackend.figure_format = 'retina'\n",
    "        %load_ext autoreload\n",
    "        %autoreload 2\n",
    "\n",
    "    font = {'family' : 'sans-serif', 'weight' : 'normal', 'size'   : 16}\n",
    "    font2 = {'family' : 'helvetica', 'weight' : 'bold', 'size'   : 24}\n",
    "    lines = {'markersize' : 0.5}\n",
    "    matplotlib.rc('font', **font)\n",
    "    matplotlib.rc('lines')\n",
    "    matplotlib.rc('text', usetex=True)\n",
    "    \n",
    "    # Plot styles\n",
    "    mycolors=[\"#083E76\",\"#0B4D92\",\"#2165AC\",\"#407BB8\",\"#368B6B\",\"#58A588\",\"#f4a582\",\"#d6604d\",\"#b2182b\",\"#393B3D\",\"#D13648\"]\n",
    "    mypts=[\"o\",\"^\",\"v\",\"s\",\"p\",\"h\",\"d\",\"8\",\"4\"]\n",
    "    mylines=[\"-\",\"--\",\":\",\"-.\",\"-\",\"--\",\":\",\"-.\",\"-\"]\n",
    "    myformats = [x + y for (x,y) in zip(mypts,mylines)]\n",
    "    stylepick = lambda x,l : int(round((len(mycolors)-2) / float(l)*x + 1,0))\n",
    "    "
   ]
  },
  {
   "cell_type": "code",
   "execution_count": 98,
   "metadata": {
    "code_folding": [
     0
    ],
    "collapsed": false,
    "deletable": true,
    "editable": true
   },
   "outputs": [],
   "source": [
    "# Parameters from command line parser\n",
    "def is_number(s):\n",
    "    try:\n",
    "        float(s)\n",
    "        return True\n",
    "    except ValueError:\n",
    "        pass\n",
    " \n",
    "    try:\n",
    "        import unicodedata\n",
    "        unicodedata.numeric(s)\n",
    "        return True\n",
    "    except (TypeError, ValueError):\n",
    "        pass\n",
    " \n",
    "    return False\n",
    "    \n",
    "def args_to_params(args_in, mp):\n",
    "    import argparse\n",
    "    parser = argparse.ArgumentParser(description='m_proximity',formatter_class=argparse.ArgumentDefaultsHelpFormatter)\n",
    "    [parser.add_argument('--'+n, default = v) for n,v in mp.items()]\n",
    "    args = parser.parse_args(args_in)\n",
    "    p1 = vars(args)\n",
    "    p = dict((k, type(mp[k])(v)) for k, v in p1.items() if v!=None)\n",
    "    return p"
   ]
  },
  {
   "cell_type": "code",
   "execution_count": 99,
   "metadata": {
    "collapsed": false,
    "deletable": true,
    "editable": true
   },
   "outputs": [],
   "source": [
    "# Output data\n",
    "data_out = dict()"
   ]
  },
  {
   "cell_type": "markdown",
   "metadata": {
    "deletable": true,
    "editable": true
   },
   "source": [
    "## TB Hamiltonian\n",
    "\n",
    "The Weyl Hamiltonian is \n",
    "$$\n",
    "\\hat t = \\frac{k_z^2}{2m} \\sigma_z + k_x \\sigma_x + k_y \\sigma_y.\n",
    "$$\n",
    "\n",
    "A bit more involved version reads\n",
    "$$\n",
    "\\hat t = v (\\sin k_x \\sigma_x + \\sin k_y \\sigma_y) + (M - t (\\cos k_x + \\cos k_y + \\cos k_z))\\sigma_z\n",
    "$$\n",
    "which low-k expansion is in fact \n",
    "$$\n",
    "H = v (k_x \\sigma_x + k_y \\sigma_y ) + (M - t + t \\frac{k_x^2 + k_y^2 + k_z^2}{2}) \\sigma_z\n",
    "$$"
   ]
  },
  {
   "cell_type": "code",
   "execution_count": 100,
   "metadata": {
    "collapsed": false,
    "deletable": true,
    "editable": true
   },
   "outputs": [
    {
     "name": "stdout",
     "output_type": "stream",
     "text": [
      "Params:\n",
      " {'t': 1, 'N_x': 1024, 'save_hdf5': 1, 'h5path': '', 'h5section': '', 'h5file': 'graph_lattice_test.h5'}\n"
     ]
    }
   ],
   "source": [
    "p = {\n",
    "    \"t\" : 1, \n",
    "    \"N_x\" : 1024,\n",
    "    \"save_hdf5\" : 1,\n",
    "    \"h5path\" : \"\",\n",
    "    \"h5section\" : \"\",\n",
    "    \"h5file\" : \"graph_lattice_test.h5\",\n",
    "    }\n",
    "\n",
    "import itertools\n",
    "ns_in = [x for x in itertools.chain.from_iterable([\"--\"+n, str(v)] for n,v in {**p}.items())]\n",
    "p=args_to_params(ns_in if not shell_mode else sys.argv[1:len(sys.argv)], p)\n",
    "\n",
    "print(\"Params:\\n\",p)"
   ]
  },
  {
   "cell_type": "code",
   "execution_count": 101,
   "metadata": {
    "collapsed": false,
    "deletable": true,
    "editable": true
   },
   "outputs": [
    {
     "name": "stdout",
     "output_type": "stream",
     "text": [
      "t1.000\n"
     ]
    }
   ],
   "source": [
    "p_names = {\n",
    "    \"t\" : \"t\",\n",
    "}\n",
    "fname_text = \"\".join([\"{}{:1.3f}\".format(x.replace(\"_\",\"\"),p[x]) for x in sorted(p_names.keys())])\n",
    "print(fname_text)"
   ]
  },
  {
   "cell_type": "markdown",
   "metadata": {
    "deletable": true,
    "editable": true
   },
   "source": [
    "### Kwant routines"
   ]
  },
  {
   "cell_type": "code",
   "execution_count": 102,
   "metadata": {
    "collapsed": false,
    "deletable": true,
    "editable": true
   },
   "outputs": [],
   "source": [
    "import kwant\n",
    "import sympy\n",
    "import sympy.functions\n",
    "import sympy.functions.elementary\n",
    "import sympy.functions.elementary.trigonometric\n",
    "import numpy as np\n",
    "import tinyarray\n",
    "from types import SimpleNamespace\n",
    "\n",
    "sympy.init_printing(use_latex='mathjax')\n",
    "\n",
    "import discretizer as dr"
   ]
  },
  {
   "cell_type": "code",
   "execution_count": 116,
   "metadata": {
    "collapsed": false,
    "deletable": true,
    "editable": true
   },
   "outputs": [],
   "source": [
    "k_x, k_y, k_z = dr.momentum_operators\n",
    "k = sympy.sqrt(k_x**2+k_y**2 +k_z**2)\n",
    "x, y, z = dr.coordinates\n",
    "sigma_x = sympy.physics.matrices.msigma(1)\n",
    "sigma_y = sympy.physics.matrices.msigma(2)\n",
    "sigma_z = sympy.physics.matrices.msigma(3)\n",
    "sigma_0 = sigma_z * sigma_z\n",
    "M,t,mu,v = sympy.symbols('M t mu v', commutative=True)"
   ]
  },
  {
   "cell_type": "code",
   "execution_count": 104,
   "metadata": {
    "collapsed": false,
    "deletable": true,
    "editable": true
   },
   "outputs": [],
   "source": [
    "# H1 = k_x * sigma_x + k_y * sigma_y + k_z*k_z / 2 * sigma_z - mu * sigma_z\n",
    "# H2 = v * (k_x * sigma_x + k_y * sigma_y)  + (M - t + t/2*k**2)*sigma_z\n",
    "H2 = -t/2 * k_x * k_x * sigma_0"
   ]
  },
  {
   "cell_type": "code",
   "execution_count": 105,
   "metadata": {
    "collapsed": false,
    "deletable": true,
    "editable": true
   },
   "outputs": [
    {
     "data": {
      "text/latex": [
       "$$\\left[\\begin{matrix}- \\frac{t k_{x}^{2}}{2} & 0\\\\0 & - \\frac{t k_{x}^{2}}{2}\\end{matrix}\\right]$$"
      ],
      "text/plain": [
       "⎡     2          ⎤\n",
       "⎢-t⋅kₓ           ⎥\n",
       "⎢───────     0   ⎥\n",
       "⎢   2            ⎥\n",
       "⎢                ⎥\n",
       "⎢              2 ⎥\n",
       "⎢         -t⋅kₓ  ⎥\n",
       "⎢   0     ───────⎥\n",
       "⎣            2   ⎦"
      ]
     },
     "execution_count": 105,
     "metadata": {},
     "output_type": "execute_result"
    }
   ],
   "source": [
    "Hs = H2\n",
    "#print(sympy.latex(H1))\n",
    "#print(sympy.latex(H2))\n",
    "Hs"
   ]
  },
  {
   "cell_type": "code",
   "execution_count": 106,
   "metadata": {
    "collapsed": false,
    "deletable": true,
    "editable": true
   },
   "outputs": [],
   "source": [
    "tb = dr.Discretizer(Hs, discrete_coordinates={'x', 'y', 'z'}, lattice_constant=1.0, verbose=False)"
   ]
  },
  {
   "cell_type": "code",
   "execution_count": 107,
   "metadata": {
    "collapsed": false,
    "deletable": true,
    "editable": true
   },
   "outputs": [
    {
     "data": {
      "text/latex": [
       "$$\\left \\{ \\left ( 0, \\quad 0, \\quad 0\\right ) : \\left[\\begin{matrix}- \\frac{t}{a^{2}} & 0\\\\0 & - \\frac{t}{a^{2}}\\end{matrix}\\right], \\quad \\left ( 1, \\quad 0, \\quad 0\\right ) : \\left[\\begin{matrix}\\frac{t}{2 a^{2}} & 0\\\\0 & \\frac{t}{2 a^{2}}\\end{matrix}\\right]\\right \\}$$"
      ],
      "text/plain": [
       "⎧           ⎡-t      ⎤             ⎡ t        ⎤⎫\n",
       "⎪(0, 0, 0): ⎢───   0 ⎥, (1, 0, 0): ⎢────   0  ⎥⎪\n",
       "⎪           ⎢  2     ⎥             ⎢   2      ⎥⎪\n",
       "⎪           ⎢ a      ⎥             ⎢2⋅a       ⎥⎪\n",
       "⎨           ⎢        ⎥             ⎢          ⎥⎬\n",
       "⎪           ⎢     -t ⎥             ⎢       t  ⎥⎪\n",
       "⎪           ⎢ 0   ───⎥             ⎢ 0    ────⎥⎪\n",
       "⎪           ⎢       2⎥             ⎢         2⎥⎪\n",
       "⎩           ⎣      a ⎦             ⎣      2⋅a ⎦⎭"
      ]
     },
     "execution_count": 107,
     "metadata": {},
     "output_type": "execute_result"
    }
   ],
   "source": [
    "tb.symbolic_hamiltonian"
   ]
  },
  {
   "cell_type": "code",
   "execution_count": 108,
   "metadata": {
    "collapsed": false,
    "deletable": true,
    "editable": true
   },
   "outputs": [
    {
     "name": "stderr",
     "output_type": "stream",
     "text": [
      "/usr/local/lib/python3.6/site-packages/discretizer/discretizer.py:147: DeprecationWarning: \n",
      "Symmetry argument is deprecated. Please use ```periods=[symmetry]`` instead.\n",
      "  DeprecationWarning)\n",
      "/usr/local/lib/python3.6/site-packages/ipykernel/__main__.py:26: RuntimeWarning: When finalizing lead 2: Infinite system with disconnected cells.\n",
      "/usr/local/lib/python3.6/site-packages/ipykernel/__main__.py:26: RuntimeWarning: When finalizing lead 3: Infinite system with disconnected cells.\n",
      "/usr/local/lib/python3.6/site-packages/ipykernel/__main__.py:26: RuntimeWarning: When finalizing lead 4: Infinite system with disconnected cells.\n",
      "/usr/local/lib/python3.6/site-packages/ipykernel/__main__.py:26: RuntimeWarning: When finalizing lead 5: Infinite system with disconnected cells.\n"
     ]
    }
   ],
   "source": [
    "dims = np.array([p[\"N_x\"], 1, 1])\n",
    "dims_mult = np.array([dims[1]*dims[2], dims[1], 1])\n",
    "\n",
    "def shape(pos):\n",
    "    return (0 <= pos[0] < dims[0]) and (0 <= pos[1] < dims[1]) and (0<=pos[2] < dims[2])\n",
    "def lead_shape_z(pos):\n",
    "    return (0 <= pos[1] < dims[1]) and (0 <= pos[0] < dims[0])\n",
    "def lead_shape_x(pos):\n",
    "    return (0 <= pos[1] < dims[1]) and (0 <= pos[2] < dims[2])\n",
    "def lead_shape_y(pos):\n",
    "    return (0 <= pos[0] < dims[0]) and (0 <= pos[2] < dims[2])\n",
    "\n",
    "\n",
    "syst_in = tb.build(shape, (0, 0, 0))\n",
    "lead_x = tb.build(lead_shape_x, (0, 0, 0), symmetry=(-1, 0, 0))\n",
    "lead_y = tb.build(lead_shape_y, (0, 0, 0), symmetry=(0, -1, 0))\n",
    "lead_z = tb.build(lead_shape_z, (0, 0, 0), symmetry=(0, 0, -1))\n",
    "syst_in.attach_lead(lead_x)\n",
    "syst_in.attach_lead(lead_x.reversed())\n",
    "syst_in.attach_lead(lead_y)\n",
    "syst_in.attach_lead(lead_y.reversed())\n",
    "syst_in.attach_lead(lead_z)\n",
    "syst_in.attach_lead(lead_z.reversed())\n",
    "\n",
    "\n",
    "syst = syst_in.finalized()"
   ]
  },
  {
   "cell_type": "code",
   "execution_count": 109,
   "metadata": {
    "collapsed": false,
    "deletable": true,
    "editable": true
   },
   "outputs": [
    {
     "data": {
      "image/png": "[encoded data removed]",
      "text/plain": [
       "<matplotlib.figure.Figure at 0x11b00b588>"
      ]
     },
     "metadata": {
      "image/png": {
       "height": 235,
       "width": 352
      }
     },
     "output_type": "display_data"
    }
   ],
   "source": [
    "if plot_graphs:\n",
    "    kwant.plot(syst)"
   ]
  },
  {
   "cell_type": "markdown",
   "metadata": {
    "deletable": true,
    "editable": true
   },
   "source": [
    "### Apply parameters and extract the Hamiltonian"
   ]
  },
  {
   "cell_type": "code",
   "execution_count": 110,
   "metadata": {
    "collapsed": false,
    "deletable": true,
    "editable": true
   },
   "outputs": [
    {
     "name": "stdout",
     "output_type": "stream",
     "text": [
      "namespace(N_x=1024, h5file='graph_lattice_test.h5', h5path='', h5section='', save_hdf5=1, t=1)\n"
     ]
    },
    {
     "data": {
      "image/png": "[encoded data removed]",
      "text/plain": [
       "<matplotlib.figure.Figure at 0x11b2379e8>"
      ]
     },
     "metadata": {
      "image/png": {
       "height": 272,
       "width": 408
      }
     },
     "output_type": "display_data"
    }
   ],
   "source": [
    "args = SimpleNamespace()\n",
    "vars(args).update(p)\n",
    "print(args)\n",
    "\n",
    "H_Weyl = syst.hamiltonian_submatrix(args=[args], sparse=True)\n",
    "\n",
    "if plot_graphs:\n",
    "    fig = plt.figure()\n",
    "    ax = fig.add_subplot(1,1,1)\n",
    "    kwant.plotter.bands(syst.leads[0], args=[args], momenta=np.linspace(-np.pi, np.pi, 21, endpoint=True), show=False, ax = ax);\n",
    "    ax.set_xlabel(r\"$k_x$\")\n",
    "    ax.set_ylabel(r\"$E$\")\n",
    "    plt.show()\n",
    "#plt.ylim(-0.5, 0.5)"
   ]
  },
  {
   "cell_type": "markdown",
   "metadata": {
    "deletable": true,
    "editable": true
   },
   "source": [
    "### Dump Hamiltonian ordered along the position on the lattice and the list of sites \n",
    "\n",
    "C++ ordering is $z-y-x$, while kwant orders as $x-y-z$\n",
    "So we need to rearrange the terms in the Hamiltonian such as to get the FK-order."
   ]
  },
  {
   "cell_type": "code",
   "execution_count": 111,
   "metadata": {
    "collapsed": false,
    "deletable": true,
    "editable": true
   },
   "outputs": [
    {
     "name": "stdout",
     "output_type": "stream",
     "text": [
      "[[-1.  0.]\n",
      " [ 0. -1.]]\n",
      "orb_size = 2\n",
      "Nsites = 1024\n"
     ]
    }
   ],
   "source": [
    "# Order sites\n",
    "print(syst.hamiltonian(0,0, args))\n",
    "orb_size = syst.hamiltonian(0,0, args).shape[0]\n",
    "print(\"orb_size =\", orb_size)\n",
    "\n",
    "# The order of sites in kwant is not guaranteed to follow the lattice\n",
    "pos_array = np.array([np.array(s.pos).astype(np.int_) for s in syst.sites])\n",
    "pos_flat = np.sum(pos_array * dims_mult[::-1], axis = 1)\n",
    "pos_order = np.argsort(pos_flat)\n",
    "Nsites = len(pos_order)\n",
    "print(\"Nsites =\", Nsites)\n",
    "\n",
    "#print(pos_array[pos_order])\n",
    "\n",
    "# Convert pos_order to order of hamiltonian matrix elements\n",
    "mat_order = np.column_stack(tuple([pos_order * orb_size + o for o in range(orb_size)])).flatten()"
   ]
  },
  {
   "cell_type": "code",
   "execution_count": 112,
   "metadata": {
    "collapsed": false,
    "deletable": true,
    "editable": true
   },
   "outputs": [],
   "source": [
    "# Extract finite size Hamiltonian\n",
    "H1 = H_Weyl.tolil()\n",
    "rows,cols = H1.nonzero()\n",
    "    \n",
    "export_hopping = np.array([\n",
    "    [row,col, H1[row,col]] for row,col in zip(rows[mat_order],cols[mat_order])\n",
    "])\n",
    "export_coords = pos_array[pos_order]\n",
    "\n",
    "data_out[\"hopping\"] = export_hopping\n",
    "data_out[\"coordinates\"] = export_coords\n",
    "data_out[\"dims\"] = dims\n",
    "data_out[\"norbitals\"] = orb_size\n"
   ]
  },
  {
   "cell_type": "code",
   "execution_count": 113,
   "metadata": {
    "code_folding": [],
    "collapsed": false,
    "deletable": true,
    "editable": true
   },
   "outputs": [],
   "source": [
    "# HDF5\n",
    "import h5py\n",
    "\n",
    "def save_hdf5(h5file, h5section, name, data_out):\n",
    "    write_on_top = h5section == \"\" or h5section == \"/\" or h5section == \"''\"\n",
    "    h5mode = \"a\" if os.path.exists(h5file) else \"w\" # and not write_on_top\n",
    "    #h5mode=\"w\"\n",
    "    hdf5_out = h5py.File(h5file, h5mode)\n",
    "\n",
    "    if not write_on_top:\n",
    "        if h5section in hdf5_out:\n",
    "            del hdf5_out[h5section]\n",
    "        h5top = hdf5_out.create_group(h5section)\n",
    "    else:\n",
    "        h5top = hdf5_out\n",
    "    print(\"Saving to\", h5file, \"/\" + h5section + \"/\" + name,end=\": \")\n",
    "    \n",
    "    sg = h5top.create_group(name) \n",
    "    for h,v in data_out.items():\n",
    "        print(h,end=\"; \")\n",
    "        v1 = v\n",
    "        is_complex = False\n",
    "        if isinstance(v, (list, tuple, np.ndarray)):\n",
    "            is_complex = (v.dtype == np.complex)\n",
    "            if is_complex:\n",
    "                v1 = v.astype(np.complex).view(np.float).reshape(np.append(v.shape,[2]))\n",
    "        dset = sg.create_dataset(h, data = v1)\n",
    "        if is_complex: \n",
    "            dset.attrs[\"__complex__\"] = 1\n",
    "    hdf5_out.close()\n",
    "    print(\"\\nDone.\\n\")\n",
    "    \n",
    "    \n",
    "def read_hdf5(h5file, h5section, name):\n",
    "    read_on_top = h5section == \"\" or h5section == \"/\" or h5section == \"''\"\n",
    "    h5mode = \"r\" \n",
    "    success = os.path.exists(h5file)\n",
    "    dummy_out = (False,None)\n",
    "    if not success:\n",
    "        return dummy_out\n",
    "\n",
    "    hdf5_out = h5py.File(h5file, h5mode)\n",
    "    \n",
    "    success = h5section in hdf5_out or read_on_top\n",
    "    if not success:\n",
    "        return dummy_out\n",
    "\n",
    "    print (h5file, h5section, name, read_on_top)\n",
    "    if not read_on_top:\n",
    "        h5top = hdf5_out[h5section]\n",
    "    else:\n",
    "        h5top = hdf5_out\n",
    "    print(\"Reading from\", h5file, \"/\", h5section)\n",
    "\n",
    "    success = name in h5top\n",
    "    if not success:\n",
    "        return dummy_out\n",
    "\n",
    "    \n",
    "    sg = h5top[name]\n",
    "    vnames = sg.keys()\n",
    "    data_in1 = dict()\n",
    "    for h in vnames:\n",
    "        data_in1[h] = sg.get(h).value \n",
    "    hdf5_out.close()\n",
    "    return (success, data_in1)"
   ]
  },
  {
   "cell_type": "code",
   "execution_count": 114,
   "metadata": {
    "collapsed": false,
    "deletable": true,
    "editable": true
   },
   "outputs": [
    {
     "name": "stdout",
     "output_type": "stream",
     "text": [
      "Saving to /Users/antipov/code/fk_mc/graph_lattice_test.h5 //parameters: t; N_x; save_hdf5; h5path; h5section; h5file; \n",
      "Done.\n",
      "\n",
      "Saving to /Users/antipov/code/fk_mc/graph_lattice_test.h5 //lattice: hopping; coordinates; dims; norbitals; \n",
      "Done.\n",
      "\n"
     ]
    }
   ],
   "source": [
    "h5path = os.getcwd() if p[\"h5path\"] == \"\" else p[\"h5path\"]\n",
    "h5file = p[\"h5file\"]\n",
    "p[\"h5file\"] = h5file\n",
    "h5file = h5path + os.path.sep + p[\"h5file\"]\n",
    "if p[\"save_hdf5\"]:\n",
    "    os.remove(h5file) if os.path.exists(h5file) else None\n",
    "    save_hdf5(h5file,p[\"h5section\"],\"parameters\",p) \n",
    "    save_hdf5(h5file,p[\"h5section\"],\"lattice\",data_out)"
   ]
  },
  {
   "cell_type": "code",
   "execution_count": null,
   "metadata": {
    "collapsed": false,
    "deletable": true,
    "editable": true
   },
   "outputs": [],
   "source": []
  },
  {
   "cell_type": "code",
   "execution_count": null,
   "metadata": {
    "collapsed": false,
    "deletable": true,
    "editable": true
   },
   "outputs": [],
   "source": []
  },
  {
   "cell_type": "code",
   "execution_count": null,
   "metadata": {
    "collapsed": true
   },
   "outputs": [],
   "source": []
  },
  {
   "cell_type": "code",
   "execution_count": null,
   "metadata": {
    "collapsed": true
   },
   "outputs": [],
   "source": []
  },
  {
   "cell_type": "code",
   "execution_count": null,
   "metadata": {
    "collapsed": true
   },
   "outputs": [],
   "source": []
  }
 ],
 "metadata": {
  "kernelspec": {
   "display_name": "Python 3",
   "language": "python",
   "name": "python3"
  },
  "language_info": {
   "codemirror_mode": {
    "name": "ipython",
    "version": 3
   },
   "file_extension": ".py",
   "mimetype": "text/x-python",
   "name": "python",
   "nbconvert_exporter": "python",
   "pygments_lexer": "ipython3",
   "version": "3.6.0"
  }
 },
 "nbformat": 4,
 "nbformat_minor": 1
}
